{
 "cells": [
  {
   "cell_type": "code",
   "id": "initial_id",
   "metadata": {
    "collapsed": true,
    "ExecuteTime": {
     "end_time": "2025-09-12T01:02:22.800737Z",
     "start_time": "2025-09-12T01:02:22.789682Z"
    }
   },
   "source": "from quartic_solver import *",
   "outputs": [],
   "execution_count": 15
  },
  {
   "metadata": {
    "ExecuteTime": {
     "end_time": "2025-09-12T01:16:35.728347Z",
     "start_time": "2025-09-12T01:16:35.718439Z"
    }
   },
   "cell_type": "code",
   "source": [
    "a = 10**(-4)\n",
    "b = - 23/50\n",
    "c = 763\n",
    "d = -537400\n",
    "e = 135850000"
   ],
   "id": "9fd0032a33e54c18",
   "outputs": [],
   "execution_count": 17
  },
  {
   "metadata": {
    "ExecuteTime": {
     "end_time": "2025-09-12T01:17:11.199398Z",
     "start_time": "2025-09-12T01:17:11.184658Z"
    }
   },
   "cell_type": "code",
   "source": "solve_quartic(a, b, c, d, e)",
   "id": "3fd8c957d630c29b",
   "outputs": [
    {
     "data": {
      "text/plain": [
       "[(846.270098535995+0j),\n",
       " (677.7107132329711+0j),\n",
       " (1538.0095941155168+56.621169581788386j),\n",
       " (1538.0095941155168-56.621169581788386j)]"
      ]
     },
     "execution_count": 18,
     "metadata": {},
     "output_type": "execute_result"
    }
   ],
   "execution_count": 18
  },
  {
   "metadata": {},
   "cell_type": "code",
   "outputs": [],
   "execution_count": null,
   "source": "",
   "id": "b150f69985931aa1"
  },
  {
   "metadata": {},
   "cell_type": "code",
   "outputs": [],
   "execution_count": null,
   "source": "",
   "id": "fd237fe2f151d395"
  },
  {
   "metadata": {},
   "cell_type": "code",
   "outputs": [],
   "execution_count": null,
   "source": "",
   "id": "d38c0fc3be0139b8"
  },
  {
   "metadata": {},
   "cell_type": "code",
   "outputs": [],
   "execution_count": null,
   "source": "",
   "id": "45df5ae23ad35c86"
  }
 ],
 "metadata": {
  "kernelspec": {
   "display_name": "Python 3",
   "language": "python",
   "name": "python3"
  },
  "language_info": {
   "codemirror_mode": {
    "name": "ipython",
    "version": 2
   },
   "file_extension": ".py",
   "mimetype": "text/x-python",
   "name": "python",
   "nbconvert_exporter": "python",
   "pygments_lexer": "ipython2",
   "version": "2.7.6"
  }
 },
 "nbformat": 4,
 "nbformat_minor": 5
}
